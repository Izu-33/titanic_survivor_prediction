{
 "cells": [
  {
   "cell_type": "markdown",
   "id": "4b7ca1bf",
   "metadata": {},
   "source": [
    "# Import necessary libraries"
   ]
  },
  {
   "cell_type": "code",
   "execution_count": 1,
   "id": "c3d07dcc",
   "metadata": {},
   "outputs": [],
   "source": [
    "import pandas as pd\n",
    "import re\n",
    "import numpy as np\n",
    "from sklearn.base import BaseEstimator, TransformerMixin\n",
    "from sklearn.preprocessing import OneHotEncoder, StandardScaler\n",
    "from sklearn.impute import SimpleImputer\n",
    "from sklearn.pipeline import Pipeline\n",
    "from sklearn.compose import ColumnTransformer\n",
    "from xgboost import XGBClassifier\n",
    "from sklearn.model_selection import train_test_split\n",
    "from sklearn.metrics import confusion_matrix, precision_score, recall_score"
   ]
  },
  {
   "cell_type": "markdown",
   "id": "c45cd389",
   "metadata": {},
   "source": [
    "# Load dataset"
   ]
  },
  {
   "cell_type": "code",
   "execution_count": 2,
   "id": "3c03c91a",
   "metadata": {},
   "outputs": [],
   "source": [
    "df = pd.read_csv('data/train.csv')\n",
    "X = df.drop('Survived', axis=1) \n",
    "y = df.Survived"
   ]
  },
  {
   "cell_type": "markdown",
   "id": "880e0481",
   "metadata": {},
   "source": [
    "# Train/test split"
   ]
  },
  {
   "cell_type": "code",
   "execution_count": 3,
   "id": "35bb3539",
   "metadata": {},
   "outputs": [],
   "source": [
    "X_train, X_test, y_train, y_test = train_test_split(X,y,test_size=.1, random_state=1234) "
   ]
  },
  {
   "cell_type": "markdown",
   "id": "03cc6c06",
   "metadata": {},
   "source": [
    "# Preprocess class"
   ]
  },
  {
   "cell_type": "code",
   "execution_count": 4,
   "id": "8c2c9664",
   "metadata": {},
   "outputs": [],
   "source": [
    "class PrepProcesor(BaseEstimator, TransformerMixin): \n",
    "    def fit(self, X, y=None): \n",
    "        self.ageImputer = SimpleImputer()\n",
    "        self.ageImputer.fit(X[['Age']])        \n",
    "        return self \n",
    "        \n",
    "    def transform(self, X, y=None):\n",
    "        X['Age'] = self.ageImputer.transform(X[['Age']])\n",
    "        X['CabinClass'] = X['Cabin'].fillna('M').apply(lambda x: str(x).replace(\" \", \"\")).apply(lambda x: re.sub(r'[^a-zA-Z]', '', x))\n",
    "        X['CabinNumber'] = X['Cabin'].fillna('M').apply(lambda x: str(x).replace(\" \", \"\")).apply(lambda x: re.sub(r'[^0-9]', '', x)).replace('', 0) \n",
    "        X['Embarked'] = X['Embarked'].fillna('M')\n",
    "        X = X.drop(['PassengerId', 'Name', 'Ticket','Cabin'], axis=1)\n",
    "        return X"
   ]
  },
  {
   "cell_type": "code",
   "execution_count": 5,
   "id": "c17e0184",
   "metadata": {},
   "outputs": [],
   "source": [
    "preproc = PrepProcesor()\n",
    "numeric_pipeline = Pipeline([('Scaler', StandardScaler())]) \n",
    "categorical_pipeline = Pipeline([('OneHot', OneHotEncoder(handle_unknown='ignore'))])\n",
    "transformer = ColumnTransformer([('num', numeric_pipeline, ['Pclass','Age','SibSp','Parch','Fare','CabinNumber']),\n",
    "                                 ('cat', categorical_pipeline, ['Sex','Embarked','CabinClass'])]) \n"
   ]
  },
  {
   "cell_type": "code",
   "execution_count": 6,
   "id": "648da110",
   "metadata": {},
   "outputs": [],
   "source": [
    "mlpipe = Pipeline([('InitialPreproc', PrepProcesor()), ('Transformer',transformer), ('xgb', XGBClassifier())])"
   ]
  },
  {
   "cell_type": "code",
   "execution_count": 7,
   "id": "14abf648",
   "metadata": {},
   "outputs": [
    {
     "data": {
      "text/plain": [
       "Pipeline(steps=[('InitialPreproc', PrepProcesor()),\n",
       "                ('Transformer',\n",
       "                 ColumnTransformer(transformers=[('num',\n",
       "                                                  Pipeline(steps=[('Scaler',\n",
       "                                                                   StandardScaler())]),\n",
       "                                                  ['Pclass', 'Age', 'SibSp',\n",
       "                                                   'Parch', 'Fare',\n",
       "                                                   'CabinNumber']),\n",
       "                                                 ('cat',\n",
       "                                                  Pipeline(steps=[('OneHot',\n",
       "                                                                   OneHotEncoder(handle_unknown='ignore'))]),\n",
       "                                                  ['Sex', 'Embarked',\n",
       "                                                   'CabinClass'])])),\n",
       "                ('xgb',\n",
       "                 XGBClassifier(base_score=No...\n",
       "                               feature_types=None, gamma=None, gpu_id=None,\n",
       "                               grow_policy=None, importance_type=None,\n",
       "                               interaction_constraints=None, learning_rate=None,\n",
       "                               max_bin=None, max_cat_threshold=None,\n",
       "                               max_cat_to_onehot=None, max_delta_step=None,\n",
       "                               max_depth=None, max_leaves=None,\n",
       "                               min_child_weight=None, missing=nan,\n",
       "                               monotone_constraints=None, n_estimators=100,\n",
       "                               n_jobs=None, num_parallel_tree=None,\n",
       "                               predictor=None, random_state=None, ...))])"
      ]
     },
     "execution_count": 7,
     "metadata": {},
     "output_type": "execute_result"
    }
   ],
   "source": [
    "mlpipe.fit(X_train,y_train)"
   ]
  },
  {
   "cell_type": "code",
   "execution_count": 8,
   "id": "cfdadd8c",
   "metadata": {},
   "outputs": [],
   "source": [
    "yhat = mlpipe.predict(X_test) "
   ]
  },
  {
   "cell_type": "code",
   "execution_count": 9,
   "id": "9b45cd80",
   "metadata": {},
   "outputs": [
    {
     "data": {
      "text/plain": [
       "0.8571428571428571"
      ]
     },
     "execution_count": 9,
     "metadata": {},
     "output_type": "execute_result"
    }
   ],
   "source": [
    "precision_score(y_test, yhat) "
   ]
  },
  {
   "cell_type": "code",
   "execution_count": 10,
   "id": "d7a005d7",
   "metadata": {},
   "outputs": [
    {
     "data": {
      "text/plain": [
       "0.8571428571428571"
      ]
     },
     "execution_count": 10,
     "metadata": {},
     "output_type": "execute_result"
    }
   ],
   "source": [
    "recall_score(y_test, yhat) "
   ]
  },
  {
   "cell_type": "markdown",
   "id": "c2f7bfbe",
   "metadata": {},
   "source": [
    "# Save model in file"
   ]
  },
  {
   "cell_type": "code",
   "execution_count": 11,
   "id": "a592bcc0",
   "metadata": {},
   "outputs": [],
   "source": [
    "import joblib"
   ]
  },
  {
   "cell_type": "code",
   "execution_count": 12,
   "id": "fd387244",
   "metadata": {},
   "outputs": [
    {
     "data": {
      "text/plain": [
       "['model.joblib']"
      ]
     },
     "execution_count": 12,
     "metadata": {},
     "output_type": "execute_result"
    }
   ],
   "source": [
    "joblib.dump(mlpipe, 'model.joblib')"
   ]
  },
  {
   "cell_type": "markdown",
   "id": "734c5650",
   "metadata": {},
   "source": [
    "# Test accuracy with test set"
   ]
  },
  {
   "cell_type": "code",
   "execution_count": 13,
   "id": "d8b160a1",
   "metadata": {},
   "outputs": [],
   "source": [
    "test = pd.read_csv('data/test.csv')"
   ]
  },
  {
   "cell_type": "code",
   "execution_count": 14,
   "id": "42d71235",
   "metadata": {},
   "outputs": [
    {
     "data": {
      "text/plain": [
       "array([0, 0, 0, 0, 1, 0, 0, 0, 1, 0, 0, 0, 1, 0, 1, 1, 0, 1, 1, 1, 0, 0,\n",
       "       1, 0, 1, 0, 1, 1, 1, 0, 0, 0, 1, 0, 0, 0, 0, 0, 0, 1, 0, 1, 0, 1,\n",
       "       1, 0, 1, 0, 1, 1, 0, 0, 1, 1, 0, 0, 0, 0, 0, 1, 0, 0, 0, 1, 1, 1,\n",
       "       1, 0, 1, 1, 1, 0, 0, 1, 1, 0, 0, 1, 0, 1, 1, 0, 0, 0, 0, 0, 1, 1,\n",
       "       1, 1, 1, 0, 1, 0, 0, 0, 1, 0, 0, 0, 1, 0, 0, 0, 1, 0, 0, 0, 0, 0,\n",
       "       0, 1, 1, 1, 1, 0, 0, 1, 1, 1, 1, 0, 1, 0, 0, 1, 0, 1, 0, 0, 0, 0,\n",
       "       0, 0, 0, 0, 0, 0, 0, 0, 0, 1, 0, 0, 1, 0, 0, 0, 1, 0, 1, 0, 0, 1,\n",
       "       0, 0, 1, 0, 1, 1, 1, 1, 1, 0, 0, 0, 0, 0, 1, 0, 0, 1, 0, 0, 0, 1,\n",
       "       1, 0, 1, 1, 0, 1, 1, 0, 1, 0, 1, 1, 0, 0, 0, 0, 0, 0, 1, 0, 1, 0,\n",
       "       0, 0, 1, 1, 0, 1, 0, 0, 1, 0, 1, 0, 0, 0, 0, 1, 0, 0, 1, 0, 1, 0,\n",
       "       1, 0, 1, 0, 1, 0, 0, 1, 0, 0, 0, 1, 0, 0, 0, 0, 1, 1, 1, 1, 1, 1,\n",
       "       1, 0, 0, 1, 1, 0, 1, 0, 1, 0, 0, 0, 0, 0, 0, 0, 1, 0, 0, 0, 1, 1,\n",
       "       0, 0, 0, 0, 0, 0, 0, 0, 1, 1, 0, 1, 0, 0, 0, 0, 0, 1, 1, 0, 1, 0,\n",
       "       0, 0, 0, 0, 0, 0, 0, 0, 0, 0, 1, 0, 0, 1, 0, 0, 0, 0, 1, 1, 0, 1,\n",
       "       0, 0, 0, 1, 0, 0, 1, 1, 0, 0, 1, 0, 0, 0, 0, 1, 1, 0, 1, 0, 0, 0,\n",
       "       1, 1, 0, 1, 0, 0, 0, 0, 0, 0, 0, 0, 0, 1, 0, 1, 0, 0, 0, 1, 1, 0,\n",
       "       0, 0, 1, 0, 1, 0, 0, 1, 0, 1, 1, 0, 1, 0, 0, 0, 1, 1, 0, 1, 0, 0,\n",
       "       1, 1, 0, 0, 0, 0, 0, 0, 1, 1, 0, 1, 0, 0, 0, 0, 0, 1, 0, 0, 0, 1,\n",
       "       0, 1, 0, 0, 1, 0, 1, 0, 1, 1, 0, 0, 1, 1, 1, 1, 0, 0, 1, 0, 0, 1])"
      ]
     },
     "execution_count": 14,
     "metadata": {},
     "output_type": "execute_result"
    }
   ],
   "source": [
    "yhat = mlpipe.predict(test)\n",
    "yhat"
   ]
  }
 ],
 "metadata": {
  "kernelspec": {
   "display_name": "Python 3 (ipykernel)",
   "language": "python",
   "name": "python3"
  },
  "language_info": {
   "codemirror_mode": {
    "name": "ipython",
    "version": 3
   },
   "file_extension": ".py",
   "mimetype": "text/x-python",
   "name": "python",
   "nbconvert_exporter": "python",
   "pygments_lexer": "ipython3",
   "version": "3.9.12"
  }
 },
 "nbformat": 4,
 "nbformat_minor": 5
}
